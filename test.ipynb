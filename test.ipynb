{
 "cells": [
  {
   "cell_type": "code",
   "execution_count": 1,
   "metadata": {
    "collapsed": true
   },
   "outputs": [
    {
     "name": "stdout",
     "output_type": "stream",
     "text": [
      "                pickup_datetime  fare_amount  fare_class  pickup_longitude  \\\n",
      "0       2010-04-19 08:17:56 UTC          6.5           0        -73.992365   \n",
      "1       2010-04-17 15:43:53 UTC          6.9           0        -73.990078   \n",
      "2       2010-04-17 11:23:26 UTC         10.1           1        -73.994149   \n",
      "3       2010-04-11 21:25:03 UTC          8.9           0        -73.990485   \n",
      "4       2010-04-17 02:19:01 UTC         19.7           1        -73.990976   \n",
      "...                         ...          ...         ...               ...   \n",
      "119995  2010-04-18 14:33:03 UTC         15.3           1        -73.955857   \n",
      "119996  2010-04-23 10:27:48 UTC         15.3           1        -73.996329   \n",
      "119997  2010-04-18 18:50:40 UTC         12.5           1        -73.988574   \n",
      "119998  2010-04-13 08:14:44 UTC          4.9           0        -74.004449   \n",
      "119999  2010-04-17 16:00:14 UTC          5.3           0        -73.955415   \n",
      "\n",
      "        pickup_latitude  dropoff_longitude  dropoff_latitude  passenger_count  \n",
      "0             40.730521         -73.975499         40.744746                1  \n",
      "1             40.740558         -73.974232         40.744114                1  \n",
      "2             40.751118         -73.960064         40.766235                2  \n",
      "3             40.756422         -73.971205         40.748192                1  \n",
      "4             40.734202         -73.905956         40.743115                1  \n",
      "...                 ...                ...               ...              ...  \n",
      "119995        40.784590         -73.981941         40.736789                1  \n",
      "119996        40.772727         -74.049890         40.740413                1  \n",
      "119997        40.749772         -74.011541         40.707799                3  \n",
      "119998        40.724529         -73.992697         40.730765                1  \n",
      "119999        40.771920         -73.967623         40.763015                3  \n",
      "\n",
      "[120000 rows x 8 columns]\n"
     ]
    }
   ],
   "source": [
    "import pandas as pd\n",
    "df = pd.read_csv('taxifare.csv')\n",
    "print(df)"
   ]
  },
  {
   "cell_type": "code",
   "execution_count": null,
   "outputs": [],
   "source": [],
   "metadata": {
    "collapsed": false,
    "pycharm": {
     "name": "#%%\n"
    }
   }
  }
 ],
 "metadata": {
  "kernelspec": {
   "name": "python3",
   "language": "python",
   "display_name": "Python 3"
  },
  "language_info": {
   "codemirror_mode": {
    "name": "ipython",
    "version": 2
   },
   "file_extension": ".py",
   "mimetype": "text/x-python",
   "name": "python",
   "nbconvert_exporter": "python",
   "pygments_lexer": "ipython2",
   "version": "2.7.6"
  }
 },
 "nbformat": 4,
 "nbformat_minor": 0
}